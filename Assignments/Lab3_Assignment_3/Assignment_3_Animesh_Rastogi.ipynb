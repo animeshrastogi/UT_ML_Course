{
 "cells": [
  {
   "cell_type": "markdown",
   "id": "ordinary-slovenia",
   "metadata": {},
   "source": [
    "### Answer 1:"
   ]
  },
  {
   "cell_type": "markdown",
   "id": "cognitive-rochester",
   "metadata": {},
   "source": [
    "Hyperparameters are the parameters that the practitioners need to specify  to control the training process. The values of hyperparameters are not derived by the data. The hyperparameters for ADAM optimization are learning rate and number of epochs."
   ]
  },
  {
   "cell_type": "markdown",
   "id": "inclusive-savings",
   "metadata": {},
   "source": [
    "### Answer 2:"
   ]
  },
  {
   "cell_type": "markdown",
   "id": "demonstrated-particle",
   "metadata": {},
   "source": [
    "1. For Gradient Descent: [x,y] = [0.67407395 0.45281374] and func_opt_value = 0.106471760359285 \n",
    "2. For Newton's Method: [x,y] = [1. 1.] and func_opt_value = 1.2449211160519093e-30\n",
    "3. For ADAM optimization: [x,y] = [0.98031894 0.96034676] and func_opt_value = 0.0004333762961982688\n",
    "4. "
   ]
  },
  {
   "cell_type": "markdown",
   "id": "forced-harris",
   "metadata": {},
   "source": [
    "### Gradient Descent"
   ]
  },
  {
   "cell_type": "markdown",
   "id": "cloudy-overview",
   "metadata": {},
   "source": [
    "[x,y] = [0.67407395 0.45281374] and func_opt_value = 0.106471760359285 "
   ]
  },
  {
   "cell_type": "code",
   "execution_count": null,
   "id": "historical-mortgage",
   "metadata": {},
   "outputs": [],
   "source": []
  },
  {
   "cell_type": "markdown",
   "id": "velvet-operations",
   "metadata": {},
   "source": [
    "### Newton's Method"
   ]
  },
  {
   "cell_type": "markdown",
   "id": "utility-luxury",
   "metadata": {},
   "source": [
    "### Newton's Method"
   ]
  },
  {
   "cell_type": "markdown",
   "id": "compact-cameroon",
   "metadata": {},
   "source": [
    "### ADAM optimization"
   ]
  },
  {
   "cell_type": "markdown",
   "id": "aboriginal-daniel",
   "metadata": {},
   "source": [
    "### Gradient Descent"
   ]
  }
 ],
 "metadata": {
  "kernelspec": {
   "display_name": "Python 3",
   "language": "python",
   "name": "python3"
  },
  "language_info": {
   "codemirror_mode": {
    "name": "ipython",
    "version": 3
   },
   "file_extension": ".py",
   "mimetype": "text/x-python",
   "name": "python",
   "nbconvert_exporter": "python",
   "pygments_lexer": "ipython3",
   "version": "3.8.8"
  }
 },
 "nbformat": 4,
 "nbformat_minor": 5
}
