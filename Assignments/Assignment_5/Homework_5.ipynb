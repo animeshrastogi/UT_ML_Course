{
 "cells": [
  {
   "cell_type": "code",
   "execution_count": 1,
   "id": "proved-progressive",
   "metadata": {},
   "outputs": [
    {
     "name": "stdout",
     "output_type": "stream",
     "text": [
      "Init Plugin\n",
      "Init Graph Optimizer\n",
      "Init Kernel\n"
     ]
    },
    {
     "data": {
      "text/plain": [
       "[PhysicalDevice(name='/physical_device:CPU:0', device_type='CPU'),\n",
       " PhysicalDevice(name='/physical_device:GPU:0', device_type='GPU')]"
      ]
     },
     "execution_count": 1,
     "metadata": {},
     "output_type": "execute_result"
    }
   ],
   "source": [
    "#import os\n",
    "#os.environ['KMP_DUPLICATE_LIB_OK']='True'\n",
    "\n",
    "import pandas as pd\n",
    "import numpy as np\n",
    "import matplotlib.pyplot as plt\n",
    "from numpy import linalg as LA\n",
    "from sklearn import datasets, linear_model\n",
    "from sklearn.metrics import mean_squared_error, r2_score\n",
    "from sklearn.model_selection import train_test_split\n",
    "from sklearn.preprocessing import MinMaxScaler\n",
    "import tensorflow as tf\n",
    "df = pd.read_csv (r'year_co2_temp.csv')\n",
    "tf.config.list_physical_devices()"
   ]
  },
  {
   "cell_type": "code",
   "execution_count": 2,
   "id": "086d9a44",
   "metadata": {},
   "outputs": [
    {
     "ename": "AttributeError",
     "evalue": "module 'tensorflow.compat.v2.__internal__' has no attribute 'register_clear_session_function'",
     "output_type": "error",
     "traceback": [
      "\u001b[0;31m---------------------------------------------------------------------------\u001b[0m",
      "\u001b[0;31mAttributeError\u001b[0m                            Traceback (most recent call last)",
      "\u001b[0;32m/var/folders/cj/5k1gkwvn6hz8x5kgwfy412780000gn/T/ipykernel_79756/3879347771.py\u001b[0m in \u001b[0;36m<module>\u001b[0;34m\u001b[0m\n\u001b[0;32m----> 1\u001b[0;31m \u001b[0;32mfrom\u001b[0m \u001b[0mkeras\u001b[0m\u001b[0;34m.\u001b[0m\u001b[0mlayers\u001b[0m \u001b[0;32mimport\u001b[0m \u001b[0mDense\u001b[0m\u001b[0;34m,\u001b[0m \u001b[0mActivation\u001b[0m\u001b[0;34m\u001b[0m\u001b[0;34m\u001b[0m\u001b[0m\n\u001b[0m\u001b[1;32m      2\u001b[0m \u001b[0;32mfrom\u001b[0m \u001b[0mkeras\u001b[0m\u001b[0;34m.\u001b[0m\u001b[0mmodels\u001b[0m \u001b[0;32mimport\u001b[0m \u001b[0mSequential\u001b[0m\u001b[0;34m\u001b[0m\u001b[0;34m\u001b[0m\u001b[0m\n",
      "\u001b[0;32m~/miniforge3/envs/env_tf/lib/python3.8/site-packages/keras/__init__.py\u001b[0m in \u001b[0;36m<module>\u001b[0;34m\u001b[0m\n\u001b[1;32m     23\u001b[0m \u001b[0;34m\u001b[0m\u001b[0m\n\u001b[1;32m     24\u001b[0m \u001b[0;31m# See b/110718070#comment18 for more details about this import.\u001b[0m\u001b[0;34m\u001b[0m\u001b[0;34m\u001b[0m\u001b[0;34m\u001b[0m\u001b[0m\n\u001b[0;32m---> 25\u001b[0;31m \u001b[0;32mfrom\u001b[0m \u001b[0mkeras\u001b[0m \u001b[0;32mimport\u001b[0m \u001b[0mmodels\u001b[0m\u001b[0;34m\u001b[0m\u001b[0;34m\u001b[0m\u001b[0m\n\u001b[0m\u001b[1;32m     26\u001b[0m \u001b[0;34m\u001b[0m\u001b[0m\n\u001b[1;32m     27\u001b[0m \u001b[0;32mfrom\u001b[0m \u001b[0mkeras\u001b[0m\u001b[0;34m.\u001b[0m\u001b[0mengine\u001b[0m\u001b[0;34m.\u001b[0m\u001b[0minput_layer\u001b[0m \u001b[0;32mimport\u001b[0m \u001b[0mInput\u001b[0m\u001b[0;34m\u001b[0m\u001b[0;34m\u001b[0m\u001b[0m\n",
      "\u001b[0;32m~/miniforge3/envs/env_tf/lib/python3.8/site-packages/keras/models.py\u001b[0m in \u001b[0;36m<module>\u001b[0;34m\u001b[0m\n\u001b[1;32m     17\u001b[0m \u001b[0;34m\u001b[0m\u001b[0m\n\u001b[1;32m     18\u001b[0m \u001b[0;32mimport\u001b[0m \u001b[0mtensorflow\u001b[0m\u001b[0;34m.\u001b[0m\u001b[0mcompat\u001b[0m\u001b[0;34m.\u001b[0m\u001b[0mv2\u001b[0m \u001b[0;32mas\u001b[0m \u001b[0mtf\u001b[0m\u001b[0;34m\u001b[0m\u001b[0;34m\u001b[0m\u001b[0m\n\u001b[0;32m---> 19\u001b[0;31m \u001b[0;32mfrom\u001b[0m \u001b[0mkeras\u001b[0m \u001b[0;32mimport\u001b[0m \u001b[0mbackend\u001b[0m\u001b[0;34m\u001b[0m\u001b[0;34m\u001b[0m\u001b[0m\n\u001b[0m\u001b[1;32m     20\u001b[0m \u001b[0;32mfrom\u001b[0m \u001b[0mkeras\u001b[0m \u001b[0;32mimport\u001b[0m \u001b[0mmetrics\u001b[0m \u001b[0;32mas\u001b[0m \u001b[0mmetrics_module\u001b[0m\u001b[0;34m\u001b[0m\u001b[0;34m\u001b[0m\u001b[0m\n\u001b[1;32m     21\u001b[0m \u001b[0;32mfrom\u001b[0m \u001b[0mkeras\u001b[0m \u001b[0;32mimport\u001b[0m \u001b[0moptimizer_v1\u001b[0m\u001b[0;34m\u001b[0m\u001b[0;34m\u001b[0m\u001b[0m\n",
      "\u001b[0;32m~/miniforge3/envs/env_tf/lib/python3.8/site-packages/keras/backend.py\u001b[0m in \u001b[0;36m<module>\u001b[0;34m\u001b[0m\n\u001b[1;32m    283\u001b[0m \u001b[0;31m# Inject the clear_session function to keras_deps to remove the dependency\u001b[0m\u001b[0;34m\u001b[0m\u001b[0;34m\u001b[0m\u001b[0;34m\u001b[0m\u001b[0m\n\u001b[1;32m    284\u001b[0m \u001b[0;31m# from TFLite to Keras.\u001b[0m\u001b[0;34m\u001b[0m\u001b[0;34m\u001b[0m\u001b[0;34m\u001b[0m\u001b[0m\n\u001b[0;32m--> 285\u001b[0;31m \u001b[0mtf\u001b[0m\u001b[0;34m.\u001b[0m\u001b[0m__internal__\u001b[0m\u001b[0;34m.\u001b[0m\u001b[0mregister_clear_session_function\u001b[0m\u001b[0;34m(\u001b[0m\u001b[0mclear_session\u001b[0m\u001b[0;34m)\u001b[0m\u001b[0;34m\u001b[0m\u001b[0;34m\u001b[0m\u001b[0m\n\u001b[0m\u001b[1;32m    286\u001b[0m \u001b[0;34m\u001b[0m\u001b[0m\n\u001b[1;32m    287\u001b[0m \u001b[0;34m\u001b[0m\u001b[0m\n",
      "\u001b[0;31mAttributeError\u001b[0m: module 'tensorflow.compat.v2.__internal__' has no attribute 'register_clear_session_function'"
     ]
    }
   ],
   "source": [
    "from keras.layers import Dense, Activation\n",
    "from keras.models import Sequential"
   ]
  },
  {
   "cell_type": "markdown",
   "id": "bulgarian-definition",
   "metadata": {},
   "source": [
    "## Exercise 2 - Part 1"
   ]
  },
  {
   "cell_type": "code",
   "execution_count": 5,
   "id": "scheduled-sight",
   "metadata": {},
   "outputs": [],
   "source": [
    "Year = df.Year\n",
    "Year = Year.to_numpy()\n",
    "CO2 = df.CO2\n",
    "CO2 = CO2.to_numpy()\n",
    "mm = MinMaxScaler()\n",
    "Year = mm.fit_transform(Year.reshape(-1,1))\n",
    "CO2 = mm.fit_transform(CO2.reshape(-1,1))"
   ]
  },
  {
   "cell_type": "code",
   "execution_count": 6,
   "id": "military-collapse",
   "metadata": {},
   "outputs": [],
   "source": [
    "Year=Year.reshape(-1,1)\n",
    "Year_poly = Year\n",
    "for i in range(1,15):\n",
    "      Year_poly = np.append(Year_poly,Year**(i+1),axis = 1)"
   ]
  },
  {
   "cell_type": "code",
   "execution_count": 7,
   "id": "fallen-booth",
   "metadata": {
    "scrolled": true
   },
   "outputs": [
    {
     "name": "stdout",
     "output_type": "stream",
     "text": [
      "0.007041195584526829\n",
      "0.04454784289520994\n",
      "0.008169609650141211\n",
      "0.0010180284563882553\n"
     ]
    }
   ],
   "source": [
    "for i in range(1,5):\n",
    "    Year_train = Year_poly[0:38,0:i]\n",
    "    CO2_train = CO2[0:38]\n",
    "    Year_test = Year_poly[39:50,0:i]\n",
    "    CO2_test = CO2[39:50]\n",
    "    regr = linear_model.LinearRegression()\n",
    "    regr.fit(Year_train,CO2_train)\n",
    "    CO2_predict_test = regr.predict(Year_test)\n",
    "    CO2_predict_train = regr.predict(Year_train)\n",
    "    CO2_predict_all = regr.predict(Year_poly[:,0:i])\n",
    "    print(mean_squared_error(CO2_test, CO2_predict_test))\n",
    "    #print(mean_squared_error(CO2_train, CO2_predict_train))"
   ]
  },
  {
   "cell_type": "code",
   "execution_count": 8,
   "id": "placed-nation",
   "metadata": {},
   "outputs": [
    {
     "data": {
      "image/png": "[encoded data removed]",
      "text/plain": [
       "<Figure size 432x288 with 1 Axes>"
      ]
     },
     "metadata": {
      "needs_background": "light"
     },
     "output_type": "display_data"
    }
   ],
   "source": [
    "plt.plot(Year_test[:,0],CO2_test,'.', color = 'red', label = 'Real data')\n",
    "plt.plot(Year_test[:,0],CO2_predict_test, color = 'blue', label = 'Predicted data')\n",
    "plt.title('Prediction (4th order polynomial)')\n",
    "plt.legend()\n",
    "plt.show()"
   ]
  },
  {
   "cell_type": "markdown",
   "id": "dietary-funds",
   "metadata": {},
   "source": [
    "4th order polynomial best predicts the CO2 data from 2000 to 2010 "
   ]
  },
  {
   "cell_type": "markdown",
   "id": "appointed-plane",
   "metadata": {},
   "source": [
    "## Exercise 2 - Part 2"
   ]
  },
  {
   "cell_type": "code",
   "execution_count": null,
   "id": "automotive-cleaners",
   "metadata": {},
   "outputs": [],
   "source": []
  },
  {
   "cell_type": "code",
   "execution_count": null,
   "id": "powered-tiger",
   "metadata": {},
   "outputs": [
    {
     "name": "stderr",
     "output_type": "stream",
     "text": [
      "2021-10-26 20:17:26.035840: I tensorflow/core/common_runtime/pluggable_device/pluggable_device_factory.cc:305] Could not identify NUMA node of platform GPU ID 0, defaulting to 0. Your kernel may not have been built with NUMA support.\n",
      "2021-10-26 20:17:26.036048: I tensorflow/core/common_runtime/pluggable_device/pluggable_device_factory.cc:271] Created TensorFlow device (/job:localhost/replica:0/task:0/device:GPU:0 with 0 MB memory) -> physical PluggableDevice (device: 0, name: METAL, pci bus id: <undefined>)\n",
      "2021-10-26 20:17:26.238065: I tensorflow/compiler/mlir/mlir_graph_optimization_pass.cc:185] None of the MLIR Optimization Passes are enabled (registered 2)\n",
      "2021-10-26 20:17:26.240897: W tensorflow/core/platform/profile_utils/cpu_utils.cc:128] Failed to get CPU frequency: 0 Hz\n"
     ]
    },
    {
     "name": "stdout",
     "output_type": "stream",
     "text": [
      "Metal device set to: Apple M1\n",
      "Epoch 1/200\n"
     ]
    }
   ],
   "source": [
    "Year_train = Year[0:38,0].reshape(-1,1)\n",
    "CO2_train = CO2[0:38]\n",
    "Year_test = Year[39:50,0].reshape(-1,1)\n",
    "CO2_test = CO2[39:50]\n",
    "model = Sequential()\n",
    "model.add(Dense(32, input_dim=1, kernel_initializer='normal',activation='sigmoid'))\n",
    "model.add(Dense(units = 10, activation = 'sigmoid'))\n",
    "model.add(Dense(units =1))\n",
    "model.compile(optimizer = 'adam',loss = 'mean_squared_error',metrics=['mse'])\n",
    "history = model.fit(Year_train, CO2_train, batch_size = 2, epochs = 200)\n",
    "plt.plot(history.history['loss'])\n",
    "CO2_predict_test = model.predict(Year_test)\n",
    "CO2_predict_train = model.predict(Year_train)"
   ]
  },
  {
   "cell_type": "code",
   "execution_count": null,
   "id": "ready-remains",
   "metadata": {},
   "outputs": [],
   "source": [
    "plt.plot(Year_test[:,0],CO2_test,'.', color = 'red', label = 'Real data')\n",
    "plt.plot(Year_test[:,0],CO2_predict_test, color = 'blue', label = 'Predicted data')\n",
    "print(mean_squared_error(CO2_test, CO2_predict_test))"
   ]
  },
  {
   "cell_type": "markdown",
   "id": "persistent-chain",
   "metadata": {},
   "source": [
    "Neural Network does not generalize the unseen data well from 2000 to 2010 despite tweaking several parameters"
   ]
  },
  {
   "cell_type": "code",
   "execution_count": null,
   "id": "advance-maximum",
   "metadata": {},
   "outputs": [],
   "source": [
    "model = Sequential()\n",
    "Year_train, Year_test, CO2_train, CO2_test = train_test_split(Year, CO2, test_size = 0.2)\n",
    "model.add(Dense(32, input_dim=1, kernel_initializer='normal',activation='sigmoid'))\n",
    "model.add(Dense(units = 10, activation = 'sigmoid'))\n",
    "model.add(Dense(units =1))\n",
    "model.compile(optimizer = 'adam',loss = 'mean_squared_error')\n",
    "history = model.fit(Year_train, CO2_train, batch_size = 2, epochs = 500)\n",
    "plt.plot(history.history['loss'])\n",
    "CO2_predict_test = model.predict(Year_test)"
   ]
  },
  {
   "cell_type": "markdown",
   "id": "satisfied-abraham",
   "metadata": {},
   "source": [
    "Neural Network behaves better when training and testing data selected randomly"
   ]
  },
  {
   "cell_type": "code",
   "execution_count": null,
   "id": "enhanced-structure",
   "metadata": {},
   "outputs": [],
   "source": [
    "plt.plot(Year_test[:,0],CO2_predict_test)\n",
    "plt.plot(Year_test[:,0],CO2_test,'.')\n",
    "print(mean_squared_error(CO2_test, CO2_predict_test))"
   ]
  }
 ],
 "metadata": {
  "kernelspec": {
   "display_name": "Python 3",
   "language": "python",
   "name": "python3"
  },
  "language_info": {
   "codemirror_mode": {
    "name": "ipython",
    "version": 3
   },
   "file_extension": ".py",
   "mimetype": "text/x-python",
   "name": "python",
   "nbconvert_exporter": "python",
   "pygments_lexer": "ipython3",
   "version": "3.8.8"
  }
 },
 "nbformat": 4,
 "nbformat_minor": 5
}
