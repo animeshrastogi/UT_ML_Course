{
 "cells": [
  {
   "cell_type": "markdown",
   "metadata": {},
   "source": [
    "# Homework 2\n",
    "## GEO 371T/GEO 391"
   ]
  },
  {
   "cell_type": "markdown",
   "metadata": {},
   "source": [
    "### Objectives: Learn to use pandas, numpy and seaborn\n",
    "### We will use a well log \n",
    "\n",
    "qsiwell2.csv\n",
    "\n",
    "https://pangea.stanford.edu/researchgroups/srb/resources/books/quantitative-seismic-interpretation"
   ]
  },
  {
   "cell_type": "markdown",
   "metadata": {},
   "source": [
    "### What are well-logs?\n",
    "\n",
    "Well-logs are single point measurements of physical properties of the subsurface recorded in a well and vary vertically with depth. The properties are random and aperiodic and depend on factors like mineral composition or lithology, porosity, cementation and compaction, presence of fluids etc., A suite of conventional well-logs recorded from an offshore area is shown. Each log (column) shows how the properties vary with depth. Here, we are looking at sediments that were deposited 5 to 16 million years ago!! \n",
    "\n",
    "Typical well log recording:\n",
    "* DEPTH - depth at which measurements have been made\n",
    "* VP - compression wave (P-wave) velocity\n",
    "* VS - shear wave velocity\n",
    "* RHO_OLD - density\n",
    "* GR - Gamma ray count\n",
    "* NPHI - Neutron porosity\n",
    "* VPVS - Vp/Vs\n",
    "* IP - P-impedance\n",
    "* IS - Shear-impedance\n",
    "* VSH - shale volume\n",
    "* RHOm - maytrix density\n",
    "* RHOf - fluid density\n",
    "* PHI - porosity\n",
    "\n",
    "Note: Once the log meaurements are made, a geologist would examine the values and come up with his interpretation of lithology/rock types (e.g., brine sand, gas-sand, oil-sand, shale etc) at each depth point."
   ]
  },
  {
   "cell_type": "markdown",
   "metadata": {},
   "source": [
    "## The Tasks"
   ]
  },
  {
   "cell_type": "markdown",
   "metadata": {},
   "source": [
    "* Import well log data\n",
    "* Examine the columns\n",
    "* Remove bad values\n",
    "* add/delete colums\n",
    "* examine corrleaton between parameters\n",
    "* create a new lithology curve log;\n",
    "* plot different logs and the interpreted lithology\n",
    "\n"
   ]
  },
  {
   "cell_type": "markdown",
   "metadata": {},
   "source": [
    "Import essential libraries"
   ]
  },
  {
   "cell_type": "code",
   "execution_count": 27,
   "metadata": {},
   "outputs": [],
   "source": [
    "import numpy as np\n",
    "import matplotlib.pyplot as plt\n",
    "import pandas as pd\n",
    "import os\n",
    "import warnings\n",
    "import seaborn as sns\n",
    "warnings.filterwarnings('ignore')"
   ]
  },
  {
   "cell_type": "code",
   "execution_count": 30,
   "metadata": {},
   "outputs": [
    {
     "name": "stdout",
     "output_type": "stream",
     "text": [
      "Collecting package metadata (current_repodata.json): done\n",
      "Solving environment: failed with initial frozen solve. Retrying with flexible solve.\n",
      "Collecting package metadata (repodata.json): done\n",
      "Solving environment: failed with initial frozen solve. Retrying with flexible solve.\n",
      "\n",
      "PackagesNotFoundError: The following packages are not available from current channels:\n",
      "\n",
      "  - sklearn\n",
      "\n",
      "Current channels:\n",
      "\n",
      "  - https://repo.anaconda.com/pkgs/main/linux-64\n",
      "  - https://repo.anaconda.com/pkgs/main/noarch\n",
      "  - https://repo.anaconda.com/pkgs/r/linux-64\n",
      "  - https://repo.anaconda.com/pkgs/r/noarch\n",
      "\n",
      "To search for alternate channels that may provide the conda package you're\n",
      "looking for, navigate to\n",
      "\n",
      "    https://anaconda.org\n",
      "\n",
      "and use the search bar at the top of the page.\n",
      "\n",
      "\n",
      "\n",
      "Note: you may need to restart the kernel to use updated packages.\n"
     ]
    }
   ],
   "source": [
    "conda install sklearn"
   ]
  },
  {
   "cell_type": "markdown",
   "metadata": {},
   "source": [
    "### Set the directory path & load the data"
   ]
  },
  {
   "cell_type": "code",
   "execution_count": 3,
   "metadata": {},
   "outputs": [],
   "source": [
    "logs = pd.read_csv('qsiwell2.csv')"
   ]
  },
  {
   "cell_type": "markdown",
   "metadata": {},
   "source": [
    "* What type of logs do we have?\n",
    "* How many rows and how many columns?"
   ]
  },
  {
   "cell_type": "code",
   "execution_count": 4,
   "metadata": {},
   "outputs": [
    {
     "data": {
      "text/html": [
       "<div>\n",
       "<style scoped>\n",
       "    .dataframe tbody tr th:only-of-type {\n",
       "        vertical-align: middle;\n",
       "    }\n",
       "\n",
       "    .dataframe tbody tr th {\n",
       "        vertical-align: top;\n",
       "    }\n",
       "\n",
       "    .dataframe thead th {\n",
       "        text-align: right;\n",
       "    }\n",
       "</style>\n",
       "<table border=\"1\" class=\"dataframe\">\n",
       "  <thead>\n",
       "    <tr style=\"text-align: right;\">\n",
       "      <th></th>\n",
       "      <th>DEPTH</th>\n",
       "      <th>VP</th>\n",
       "      <th>VS</th>\n",
       "      <th>RHO_OLD</th>\n",
       "      <th>GR</th>\n",
       "      <th>NPHI</th>\n",
       "      <th>RHO</th>\n",
       "      <th>SW</th>\n",
       "      <th>SWX</th>\n",
       "      <th>VPVS</th>\n",
       "      <th>IP</th>\n",
       "      <th>IS</th>\n",
       "      <th>VSH</th>\n",
       "      <th>RHOm</th>\n",
       "      <th>RHOf</th>\n",
       "      <th>PHI</th>\n",
       "    </tr>\n",
       "  </thead>\n",
       "  <tbody>\n",
       "    <tr>\n",
       "      <th>0</th>\n",
       "      <td>2013.2528</td>\n",
       "      <td>2294.7</td>\n",
       "      <td>876.9</td>\n",
       "      <td>1.9972</td>\n",
       "      <td>91.8785</td>\n",
       "      <td>0.4908</td>\n",
       "      <td>2.240104</td>\n",
       "      <td>1.0</td>\n",
       "      <td>1.0</td>\n",
       "      <td>2.616832</td>\n",
       "      <td>5144.846857</td>\n",
       "      <td>2112.418072</td>\n",
       "      <td>0.493621</td>\n",
       "      <td>2.728979</td>\n",
       "      <td>1.09</td>\n",
       "      <td>0.294312</td>\n",
       "    </tr>\n",
       "    <tr>\n",
       "      <th>1</th>\n",
       "      <td>2013.4052</td>\n",
       "      <td>2296.7</td>\n",
       "      <td>943.0</td>\n",
       "      <td>2.0455</td>\n",
       "      <td>86.8004</td>\n",
       "      <td>0.4833</td>\n",
       "      <td>2.240104</td>\n",
       "      <td>1.0</td>\n",
       "      <td>1.0</td>\n",
       "      <td>2.435525</td>\n",
       "      <td>5144.846857</td>\n",
       "      <td>2112.418072</td>\n",
       "      <td>0.436010</td>\n",
       "      <td>2.719762</td>\n",
       "      <td>1.09</td>\n",
       "      <td>0.294312</td>\n",
       "    </tr>\n",
       "    <tr>\n",
       "      <th>2</th>\n",
       "      <td>2013.5576</td>\n",
       "      <td>2290.4</td>\n",
       "      <td>912.5</td>\n",
       "      <td>2.1122</td>\n",
       "      <td>86.0021</td>\n",
       "      <td>0.4474</td>\n",
       "      <td>NaN</td>\n",
       "      <td>1.0</td>\n",
       "      <td>1.0</td>\n",
       "      <td>NaN</td>\n",
       "      <td>NaN</td>\n",
       "      <td>NaN</td>\n",
       "      <td>NaN</td>\n",
       "      <td>2.718313</td>\n",
       "      <td>1.09</td>\n",
       "      <td>0.292342</td>\n",
       "    </tr>\n",
       "    <tr>\n",
       "      <th>3</th>\n",
       "      <td>2013.7100</td>\n",
       "      <td>2277.5</td>\n",
       "      <td>891.6</td>\n",
       "      <td>2.1960</td>\n",
       "      <td>87.3570</td>\n",
       "      <td>0.4140</td>\n",
       "      <td>2.242800</td>\n",
       "      <td>1.0</td>\n",
       "      <td>1.0</td>\n",
       "      <td>2.554397</td>\n",
       "      <td>5107.977000</td>\n",
       "      <td>1999.680480</td>\n",
       "      <td>0.442325</td>\n",
       "      <td>2.720772</td>\n",
       "      <td>1.09</td>\n",
       "      <td>0.293096</td>\n",
       "    </tr>\n",
       "    <tr>\n",
       "      <th>4</th>\n",
       "      <td>2013.8624</td>\n",
       "      <td>2262.0</td>\n",
       "      <td>890.5</td>\n",
       "      <td>2.2020</td>\n",
       "      <td>90.4024</td>\n",
       "      <td>0.4293</td>\n",
       "      <td>2.240064</td>\n",
       "      <td>1.0</td>\n",
       "      <td>1.0</td>\n",
       "      <td>2.540146</td>\n",
       "      <td>5067.024768</td>\n",
       "      <td>1994.776992</td>\n",
       "      <td>0.476875</td>\n",
       "      <td>2.726300</td>\n",
       "      <td>1.09</td>\n",
       "      <td>0.297156</td>\n",
       "    </tr>\n",
       "  </tbody>\n",
       "</table>\n",
       "</div>"
      ],
      "text/plain": [
       "       DEPTH      VP     VS  RHO_OLD       GR    NPHI       RHO   SW  SWX  \\\n",
       "0  2013.2528  2294.7  876.9   1.9972  91.8785  0.4908  2.240104  1.0  1.0   \n",
       "1  2013.4052  2296.7  943.0   2.0455  86.8004  0.4833  2.240104  1.0  1.0   \n",
       "2  2013.5576  2290.4  912.5   2.1122  86.0021  0.4474       NaN  1.0  1.0   \n",
       "3  2013.7100  2277.5  891.6   2.1960  87.3570  0.4140  2.242800  1.0  1.0   \n",
       "4  2013.8624  2262.0  890.5   2.2020  90.4024  0.4293  2.240064  1.0  1.0   \n",
       "\n",
       "       VPVS           IP           IS       VSH      RHOm  RHOf       PHI  \n",
       "0  2.616832  5144.846857  2112.418072  0.493621  2.728979  1.09  0.294312  \n",
       "1  2.435525  5144.846857  2112.418072  0.436010  2.719762  1.09  0.294312  \n",
       "2       NaN          NaN          NaN       NaN  2.718313  1.09  0.292342  \n",
       "3  2.554397  5107.977000  1999.680480  0.442325  2.720772  1.09  0.293096  \n",
       "4  2.540146  5067.024768  1994.776992  0.476875  2.726300  1.09  0.297156  "
      ]
     },
     "execution_count": 4,
     "metadata": {},
     "output_type": "execute_result"
    }
   ],
   "source": [
    "logs.head()"
   ]
  },
  {
   "cell_type": "code",
   "execution_count": 5,
   "metadata": {},
   "outputs": [
    {
     "name": "stdout",
     "output_type": "stream",
     "text": [
      "<class 'pandas.core.frame.DataFrame'>\n",
      "RangeIndex: 4117 entries, 0 to 4116\n",
      "Data columns (total 16 columns):\n",
      " #   Column   Non-Null Count  Dtype  \n",
      "---  ------   --------------  -----  \n",
      " 0   DEPTH    4117 non-null   float64\n",
      " 1   VP       4117 non-null   float64\n",
      " 2   VS       4117 non-null   float64\n",
      " 3   RHO_OLD  4117 non-null   float64\n",
      " 4   GR       4117 non-null   float64\n",
      " 5   NPHI     4117 non-null   float64\n",
      " 6   RHO      2701 non-null   float64\n",
      " 7   SW       2702 non-null   float64\n",
      " 8   SWX      2702 non-null   float64\n",
      " 9   VPVS     4116 non-null   float64\n",
      " 10  IP       2701 non-null   float64\n",
      " 11  IS       2701 non-null   float64\n",
      " 12  VSH      4116 non-null   float64\n",
      " 13  RHOm     4117 non-null   float64\n",
      " 14  RHOf     2702 non-null   float64\n",
      " 15  PHI      2702 non-null   float64\n",
      "dtypes: float64(16)\n",
      "memory usage: 514.8 KB\n"
     ]
    }
   ],
   "source": [
    "logs.info()"
   ]
  },
  {
   "cell_type": "markdown",
   "metadata": {},
   "source": [
    "* Delete the column RHO_OLD\n",
    "* check to make sure that it has indeed been deleted"
   ]
  },
  {
   "cell_type": "code",
   "execution_count": 6,
   "metadata": {},
   "outputs": [],
   "source": [
    "logs.drop('RHO_OLD',inplace = True,axis = 1)"
   ]
  },
  {
   "cell_type": "markdown",
   "metadata": {},
   "source": [
    "How can we check if we have really deleted `RHO_OLD`:?"
   ]
  },
  {
   "cell_type": "code",
   "execution_count": 7,
   "metadata": {},
   "outputs": [
    {
     "name": "stdout",
     "output_type": "stream",
     "text": [
      "<class 'pandas.core.frame.DataFrame'>\n",
      "RangeIndex: 4117 entries, 0 to 4116\n",
      "Data columns (total 15 columns):\n",
      " #   Column  Non-Null Count  Dtype  \n",
      "---  ------  --------------  -----  \n",
      " 0   DEPTH   4117 non-null   float64\n",
      " 1   VP      4117 non-null   float64\n",
      " 2   VS      4117 non-null   float64\n",
      " 3   GR      4117 non-null   float64\n",
      " 4   NPHI    4117 non-null   float64\n",
      " 5   RHO     2701 non-null   float64\n",
      " 6   SW      2702 non-null   float64\n",
      " 7   SWX     2702 non-null   float64\n",
      " 8   VPVS    4116 non-null   float64\n",
      " 9   IP      2701 non-null   float64\n",
      " 10  IS      2701 non-null   float64\n",
      " 11  VSH     4116 non-null   float64\n",
      " 12  RHOm    4117 non-null   float64\n",
      " 13  RHOf    2702 non-null   float64\n",
      " 14  PHI     2702 non-null   float64\n",
      "dtypes: float64(15)\n",
      "memory usage: 482.6 KB\n"
     ]
    }
   ],
   "source": [
    "#Use logs.info() to check if RHO_OLD is present or not\n",
    "logs.info()"
   ]
  },
  {
   "cell_type": "markdown",
   "metadata": {},
   "source": [
    "* Rename RHOf to RHOfluid (Hint, use DataFrame.rename() )\n"
   ]
  },
  {
   "cell_type": "code",
   "execution_count": 8,
   "metadata": {},
   "outputs": [
    {
     "name": "stdout",
     "output_type": "stream",
     "text": [
      "<class 'pandas.core.frame.DataFrame'>\n",
      "RangeIndex: 4117 entries, 0 to 4116\n",
      "Data columns (total 15 columns):\n",
      " #   Column    Non-Null Count  Dtype  \n",
      "---  ------    --------------  -----  \n",
      " 0   DEPTH     4117 non-null   float64\n",
      " 1   VP        4117 non-null   float64\n",
      " 2   VS        4117 non-null   float64\n",
      " 3   GR        4117 non-null   float64\n",
      " 4   NPHI      4117 non-null   float64\n",
      " 5   RHO       2701 non-null   float64\n",
      " 6   SW        2702 non-null   float64\n",
      " 7   SWX       2702 non-null   float64\n",
      " 8   VPVS      4116 non-null   float64\n",
      " 9   IP        2701 non-null   float64\n",
      " 10  IS        2701 non-null   float64\n",
      " 11  VSH       4116 non-null   float64\n",
      " 12  RHOm      4117 non-null   float64\n",
      " 13  RHOfluid  2702 non-null   float64\n",
      " 14  PHI       2702 non-null   float64\n",
      "dtypes: float64(15)\n",
      "memory usage: 482.6 KB\n"
     ]
    }
   ],
   "source": [
    "logs.rename(columns = {'RHOf':'RHOfluid'},inplace = True)\n",
    "logs.info()"
   ]
  },
  {
   "cell_type": "markdown",
   "metadata": {},
   "source": [
    "* How do you check the min, max and mean values of a particular data column?"
   ]
  },
  {
   "cell_type": "code",
   "execution_count": 9,
   "metadata": {},
   "outputs": [
    {
     "name": "stdout",
     "output_type": "stream",
     "text": [
      "1.0742138287933047\n",
      "0.839717716535434\n",
      "1.09\n"
     ]
    }
   ],
   "source": [
    "print(logs['RHOfluid'].mean())\n",
    "print(logs['RHOfluid'].min())\n",
    "print(logs['RHOfluid'].max())"
   ]
  },
  {
   "cell_type": "markdown",
   "metadata": {},
   "source": [
    "* What are the min, max, std etc values of each column of the data?\n",
    "* What are the min, max, std values of VP, VS, RHO, PHI?"
   ]
  },
  {
   "cell_type": "code",
   "execution_count": 10,
   "metadata": {},
   "outputs": [
    {
     "data": {
      "text/html": [
       "<div>\n",
       "<style scoped>\n",
       "    .dataframe tbody tr th:only-of-type {\n",
       "        vertical-align: middle;\n",
       "    }\n",
       "\n",
       "    .dataframe tbody tr th {\n",
       "        vertical-align: top;\n",
       "    }\n",
       "\n",
       "    .dataframe thead th {\n",
       "        text-align: right;\n",
       "    }\n",
       "</style>\n",
       "<table border=\"1\" class=\"dataframe\">\n",
       "  <thead>\n",
       "    <tr style=\"text-align: right;\">\n",
       "      <th></th>\n",
       "      <th>DEPTH</th>\n",
       "      <th>VP</th>\n",
       "      <th>VS</th>\n",
       "      <th>GR</th>\n",
       "      <th>NPHI</th>\n",
       "      <th>RHO</th>\n",
       "      <th>SW</th>\n",
       "      <th>SWX</th>\n",
       "      <th>VPVS</th>\n",
       "      <th>IP</th>\n",
       "      <th>IS</th>\n",
       "      <th>VSH</th>\n",
       "      <th>RHOm</th>\n",
       "      <th>RHOfluid</th>\n",
       "      <th>PHI</th>\n",
       "    </tr>\n",
       "  </thead>\n",
       "  <tbody>\n",
       "    <tr>\n",
       "      <th>count</th>\n",
       "      <td>4117.000000</td>\n",
       "      <td>4117.000000</td>\n",
       "      <td>4117.000000</td>\n",
       "      <td>4117.000000</td>\n",
       "      <td>4117.000000</td>\n",
       "      <td>2701.000000</td>\n",
       "      <td>2702.000000</td>\n",
       "      <td>2702.000000</td>\n",
       "      <td>4116.000000</td>\n",
       "      <td>2701.000000</td>\n",
       "      <td>2701.000000</td>\n",
       "      <td>4116.000000</td>\n",
       "      <td>4117.000000</td>\n",
       "      <td>2702.000000</td>\n",
       "      <td>2702.000000</td>\n",
       "    </tr>\n",
       "    <tr>\n",
       "      <th>mean</th>\n",
       "      <td>2326.892000</td>\n",
       "      <td>2977.098761</td>\n",
       "      <td>1371.293952</td>\n",
       "      <td>72.785125</td>\n",
       "      <td>0.321164</td>\n",
       "      <td>2.225045</td>\n",
       "      <td>0.949077</td>\n",
       "      <td>0.988455</td>\n",
       "      <td>2.212475</td>\n",
       "      <td>6232.839386</td>\n",
       "      <td>2816.336694</td>\n",
       "      <td>0.276969</td>\n",
       "      <td>2.694321</td>\n",
       "      <td>1.074214</td>\n",
       "      <td>0.291760</td>\n",
       "    </tr>\n",
       "    <tr>\n",
       "      <th>std</th>\n",
       "      <td>181.145666</td>\n",
       "      <td>449.355552</td>\n",
       "      <td>297.056552</td>\n",
       "      <td>14.464120</td>\n",
       "      <td>0.090255</td>\n",
       "      <td>0.061961</td>\n",
       "      <td>0.161898</td>\n",
       "      <td>0.038373</td>\n",
       "      <td>0.231963</td>\n",
       "      <td>798.193079</td>\n",
       "      <td>589.260460</td>\n",
       "      <td>0.164100</td>\n",
       "      <td>0.026255</td>\n",
       "      <td>0.050188</td>\n",
       "      <td>0.032191</td>\n",
       "    </tr>\n",
       "    <tr>\n",
       "      <th>min</th>\n",
       "      <td>2013.252800</td>\n",
       "      <td>1439.900000</td>\n",
       "      <td>688.800000</td>\n",
       "      <td>48.368700</td>\n",
       "      <td>0.067800</td>\n",
       "      <td>2.036616</td>\n",
       "      <td>0.192638</td>\n",
       "      <td>0.641176</td>\n",
       "      <td>0.801994</td>\n",
       "      <td>4206.314727</td>\n",
       "      <td>1534.932941</td>\n",
       "      <td>0.000000</td>\n",
       "      <td>2.650000</td>\n",
       "      <td>0.839718</td>\n",
       "      <td>0.106844</td>\n",
       "    </tr>\n",
       "    <tr>\n",
       "      <th>25%</th>\n",
       "      <td>2170.072500</td>\n",
       "      <td>2594.500000</td>\n",
       "      <td>1141.600000</td>\n",
       "      <td>60.683100</td>\n",
       "      <td>0.276200</td>\n",
       "      <td>2.185285</td>\n",
       "      <td>1.000000</td>\n",
       "      <td>1.000000</td>\n",
       "      <td>2.041339</td>\n",
       "      <td>5522.421092</td>\n",
       "      <td>2256.356375</td>\n",
       "      <td>0.139707</td>\n",
       "      <td>2.672353</td>\n",
       "      <td>1.090000</td>\n",
       "      <td>0.276221</td>\n",
       "    </tr>\n",
       "    <tr>\n",
       "      <th>50%</th>\n",
       "      <td>2326.892100</td>\n",
       "      <td>3036.100000</td>\n",
       "      <td>1415.300000</td>\n",
       "      <td>68.026600</td>\n",
       "      <td>0.306300</td>\n",
       "      <td>2.223544</td>\n",
       "      <td>1.000000</td>\n",
       "      <td>1.000000</td>\n",
       "      <td>2.158649</td>\n",
       "      <td>6190.471100</td>\n",
       "      <td>2846.315780</td>\n",
       "      <td>0.222938</td>\n",
       "      <td>2.685683</td>\n",
       "      <td>1.090000</td>\n",
       "      <td>0.297309</td>\n",
       "    </tr>\n",
       "    <tr>\n",
       "      <th>75%</th>\n",
       "      <td>2483.711700</td>\n",
       "      <td>3251.100000</td>\n",
       "      <td>1595.000000</td>\n",
       "      <td>83.557200</td>\n",
       "      <td>0.392700</td>\n",
       "      <td>2.264000</td>\n",
       "      <td>1.000000</td>\n",
       "      <td>1.000000</td>\n",
       "      <td>2.349562</td>\n",
       "      <td>6936.208845</td>\n",
       "      <td>3298.179392</td>\n",
       "      <td>0.398985</td>\n",
       "      <td>2.713874</td>\n",
       "      <td>1.090000</td>\n",
       "      <td>0.310516</td>\n",
       "    </tr>\n",
       "    <tr>\n",
       "      <th>max</th>\n",
       "      <td>2640.531200</td>\n",
       "      <td>4431.000000</td>\n",
       "      <td>2427.800000</td>\n",
       "      <td>136.512800</td>\n",
       "      <td>0.533700</td>\n",
       "      <td>2.545268</td>\n",
       "      <td>1.000000</td>\n",
       "      <td>1.000000</td>\n",
       "      <td>3.266269</td>\n",
       "      <td>8311.770494</td>\n",
       "      <td>4560.425997</td>\n",
       "      <td>1.000000</td>\n",
       "      <td>2.810000</td>\n",
       "      <td>1.090000</td>\n",
       "      <td>0.376396</td>\n",
       "    </tr>\n",
       "  </tbody>\n",
       "</table>\n",
       "</div>"
      ],
      "text/plain": [
       "             DEPTH           VP           VS           GR         NPHI  \\\n",
       "count  4117.000000  4117.000000  4117.000000  4117.000000  4117.000000   \n",
       "mean   2326.892000  2977.098761  1371.293952    72.785125     0.321164   \n",
       "std     181.145666   449.355552   297.056552    14.464120     0.090255   \n",
       "min    2013.252800  1439.900000   688.800000    48.368700     0.067800   \n",
       "25%    2170.072500  2594.500000  1141.600000    60.683100     0.276200   \n",
       "50%    2326.892100  3036.100000  1415.300000    68.026600     0.306300   \n",
       "75%    2483.711700  3251.100000  1595.000000    83.557200     0.392700   \n",
       "max    2640.531200  4431.000000  2427.800000   136.512800     0.533700   \n",
       "\n",
       "               RHO           SW          SWX         VPVS           IP  \\\n",
       "count  2701.000000  2702.000000  2702.000000  4116.000000  2701.000000   \n",
       "mean      2.225045     0.949077     0.988455     2.212475  6232.839386   \n",
       "std       0.061961     0.161898     0.038373     0.231963   798.193079   \n",
       "min       2.036616     0.192638     0.641176     0.801994  4206.314727   \n",
       "25%       2.185285     1.000000     1.000000     2.041339  5522.421092   \n",
       "50%       2.223544     1.000000     1.000000     2.158649  6190.471100   \n",
       "75%       2.264000     1.000000     1.000000     2.349562  6936.208845   \n",
       "max       2.545268     1.000000     1.000000     3.266269  8311.770494   \n",
       "\n",
       "                IS          VSH         RHOm     RHOfluid          PHI  \n",
       "count  2701.000000  4116.000000  4117.000000  2702.000000  2702.000000  \n",
       "mean   2816.336694     0.276969     2.694321     1.074214     0.291760  \n",
       "std     589.260460     0.164100     0.026255     0.050188     0.032191  \n",
       "min    1534.932941     0.000000     2.650000     0.839718     0.106844  \n",
       "25%    2256.356375     0.139707     2.672353     1.090000     0.276221  \n",
       "50%    2846.315780     0.222938     2.685683     1.090000     0.297309  \n",
       "75%    3298.179392     0.398985     2.713874     1.090000     0.310516  \n",
       "max    4560.425997     1.000000     2.810000     1.090000     0.376396  "
      ]
     },
     "execution_count": 10,
     "metadata": {},
     "output_type": "execute_result"
    }
   ],
   "source": [
    "logs.describe()"
   ]
  },
  {
   "cell_type": "code",
   "execution_count": 11,
   "metadata": {},
   "outputs": [
    {
     "data": {
      "text/html": [
       "<div>\n",
       "<style scoped>\n",
       "    .dataframe tbody tr th:only-of-type {\n",
       "        vertical-align: middle;\n",
       "    }\n",
       "\n",
       "    .dataframe tbody tr th {\n",
       "        vertical-align: top;\n",
       "    }\n",
       "\n",
       "    .dataframe thead th {\n",
       "        text-align: right;\n",
       "    }\n",
       "</style>\n",
       "<table border=\"1\" class=\"dataframe\">\n",
       "  <thead>\n",
       "    <tr style=\"text-align: right;\">\n",
       "      <th></th>\n",
       "      <th>VP</th>\n",
       "      <th>VS</th>\n",
       "      <th>RHO</th>\n",
       "      <th>PHI</th>\n",
       "    </tr>\n",
       "  </thead>\n",
       "  <tbody>\n",
       "    <tr>\n",
       "      <th>count</th>\n",
       "      <td>4117.000000</td>\n",
       "      <td>4117.000000</td>\n",
       "      <td>2701.000000</td>\n",
       "      <td>2702.000000</td>\n",
       "    </tr>\n",
       "    <tr>\n",
       "      <th>mean</th>\n",
       "      <td>2977.098761</td>\n",
       "      <td>1371.293952</td>\n",
       "      <td>2.225045</td>\n",
       "      <td>0.291760</td>\n",
       "    </tr>\n",
       "    <tr>\n",
       "      <th>std</th>\n",
       "      <td>449.355552</td>\n",
       "      <td>297.056552</td>\n",
       "      <td>0.061961</td>\n",
       "      <td>0.032191</td>\n",
       "    </tr>\n",
       "    <tr>\n",
       "      <th>min</th>\n",
       "      <td>1439.900000</td>\n",
       "      <td>688.800000</td>\n",
       "      <td>2.036616</td>\n",
       "      <td>0.106844</td>\n",
       "    </tr>\n",
       "    <tr>\n",
       "      <th>25%</th>\n",
       "      <td>2594.500000</td>\n",
       "      <td>1141.600000</td>\n",
       "      <td>2.185285</td>\n",
       "      <td>0.276221</td>\n",
       "    </tr>\n",
       "    <tr>\n",
       "      <th>50%</th>\n",
       "      <td>3036.100000</td>\n",
       "      <td>1415.300000</td>\n",
       "      <td>2.223544</td>\n",
       "      <td>0.297309</td>\n",
       "    </tr>\n",
       "    <tr>\n",
       "      <th>75%</th>\n",
       "      <td>3251.100000</td>\n",
       "      <td>1595.000000</td>\n",
       "      <td>2.264000</td>\n",
       "      <td>0.310516</td>\n",
       "    </tr>\n",
       "    <tr>\n",
       "      <th>max</th>\n",
       "      <td>4431.000000</td>\n",
       "      <td>2427.800000</td>\n",
       "      <td>2.545268</td>\n",
       "      <td>0.376396</td>\n",
       "    </tr>\n",
       "  </tbody>\n",
       "</table>\n",
       "</div>"
      ],
      "text/plain": [
       "                VP           VS          RHO          PHI\n",
       "count  4117.000000  4117.000000  2701.000000  2702.000000\n",
       "mean   2977.098761  1371.293952     2.225045     0.291760\n",
       "std     449.355552   297.056552     0.061961     0.032191\n",
       "min    1439.900000   688.800000     2.036616     0.106844\n",
       "25%    2594.500000  1141.600000     2.185285     0.276221\n",
       "50%    3036.100000  1415.300000     2.223544     0.297309\n",
       "75%    3251.100000  1595.000000     2.264000     0.310516\n",
       "max    4431.000000  2427.800000     2.545268     0.376396"
      ]
     },
     "execution_count": 11,
     "metadata": {},
     "output_type": "execute_result"
    }
   ],
   "source": [
    "logs[{'VP','VS','RHO','PHI'}].describe()"
   ]
  },
  {
   "cell_type": "markdown",
   "metadata": {},
   "source": [
    "## Check for NaN values in the log\n",
    "### Restrict your calculation to depth range 0-2400 m then replace the NaN values by the average "
   ]
  },
  {
   "cell_type": "code",
   "execution_count": 12,
   "metadata": {},
   "outputs": [
    {
     "data": {
      "text/plain": [
       "True"
      ]
     },
     "execution_count": 12,
     "metadata": {},
     "output_type": "execute_result"
    }
   ],
   "source": [
    "logs = logs.loc[(logs.DEPTH>=0) & (logs.DEPTH<=2400)]\n",
    "\n",
    "#Check for NAN values\n",
    "logs.isnull().values.any()"
   ]
  },
  {
   "cell_type": "markdown",
   "metadata": {},
   "source": [
    "# Compute lithofacies logs\n",
    "\n",
    "### Complete the missing sections of code below\n",
    "### First, restrict your calculation to depth range 2100-2400 m\n",
    "\n",
    "* lithofacies will be computed using delimiting values in VSH (shale volume) and SW (water saturation)\n",
    "\n",
    "1) sand_cutoff = 0.20 \\\n",
    "2) brine_sand = ((logs.VSH <= sand_cutoff) & (logs.SW >= 0.9)) \\\n",
    "3) oil_sand = ((logs.VSH <= sand_cutoff) & (logs.SW < 0.9)) \\\n",
    "4) shale = (logs.VSH > sand_cutoff)\n",
    "\n",
    "### Use the above delimiting values to create the `LFC` log and store it into the  DataFrame\n",
    "\n",
    "### Use this numeric scheme to store in the LFC log\n",
    "* LFC=0: undef\n",
    "* LFC=1: brine sand\n",
    "* LFC=2: oil sand\n",
    "* LFC=3: gas sand\n",
    "* LFC=4: shale\n",
    "\n",
    "### Then\n",
    "* count the samples of each of the facies.\n",
    "* make histogram plots\n",
    "* make a 1X4 plot as follows:\n",
    "** (1,1) Vsh, phi and Sw\n",
    "** (1,2) Ip\n",
    "** (1,3) Vp/vs\n",
    "** (1,4) lithofacies (different colors for different facies)\n",
    "** Makes sure to put axes labels, captions, legend etc."
   ]
  },
  {
   "cell_type": "markdown",
   "metadata": {},
   "source": [
    "#### Include your code here"
   ]
  },
  {
   "cell_type": "code",
   "execution_count": 13,
   "metadata": {},
   "outputs": [],
   "source": [
    "logs = logs.loc[(logs.DEPTH>=2100) & (logs.DEPTH<=2400)]\n",
    "\n",
    "sand_cutoff = 0.20\n",
    "brine_sand = ((logs.VSH <= sand_cutoff) & (logs.SW >= 0.9))\n",
    "\n",
    "#FILL IN YOUR CODE HERE\n",
    "oil_sand = ((logs.VSH <= sand_cutoff) & (logs.SW < 0.9)) \n",
    "shale =(logs.VSH > sand_cutoff)"
   ]
  },
  {
   "cell_type": "markdown",
   "metadata": {},
   "source": [
    "\n",
    "Use the above flag logs to create the `LFC` log and store it into the `logs` DataFrame:\n",
    "#### Include your code here"
   ]
  },
  {
   "cell_type": "code",
   "execution_count": 14,
   "metadata": {},
   "outputs": [],
   "source": [
    "temp_lfc = np.zeros(np.shape(logs.VSH))\n",
    "temp_lfc[brine_sand.values] = 1    # LFC will be 1 when ssb (brine sand flag) is True\n",
    "temp_lfc[oil_sand.values] = 2\n",
    "temp_lfc[shale.values] = 4\n",
    "#FILL IN YOUR CODE HERE TO INCLUDE OIL SAND AND SHEL IN TEMP_LFC\n",
    "\n",
    "logs['LFC'] = temp_lfc             # Copy the temporary log temp_lfc into the DataFrame with name `LFC`\n",
    "\n",
    "logs.to_csv('qsiwell2_lfc.csv',index=False) # save the data"
   ]
  },
  {
   "cell_type": "markdown",
   "metadata": {},
   "source": [
    "Now, let's see if this is all ok; the total number of samples after zooming in the 2100-2400 m depth window is:"
   ]
  },
  {
   "cell_type": "code",
   "execution_count": 15,
   "metadata": {},
   "outputs": [
    {
     "data": {
      "text/plain": [
       "(1968,)"
      ]
     },
     "execution_count": 15,
     "metadata": {},
     "output_type": "execute_result"
    }
   ],
   "source": [
    "np.shape(logs.VSH)"
   ]
  },
  {
   "cell_type": "markdown",
   "metadata": {},
   "source": [
    "and the following prints out how many samples each facies is made of:"
   ]
  },
  {
   "cell_type": "code",
   "execution_count": 16,
   "metadata": {},
   "outputs": [
    {
     "name": "stdout",
     "output_type": "stream",
     "text": [
      "brine sst=706, oil sst=134, shale=1128\n"
     ]
    }
   ],
   "source": [
    "string = \"brine sst={0}, oil sst={1}, shale={2}\"\n",
    "data = (np.count_nonzero(brine_sand),\n",
    "        np.count_nonzero(oil_sand),\n",
    "        np.count_nonzero(shale))\n",
    "print(string.format(*data))"
   ]
  },
  {
   "cell_type": "markdown",
   "metadata": {},
   "source": [
    "And a final check to make this newly defined `LFC` log only has values within the range 1 to 4 (there will be no undefined samples in this particular depth interval, i.e. classes with `LFC=0`):"
   ]
  },
  {
   "cell_type": "code",
   "execution_count": 17,
   "metadata": {},
   "outputs": [
    {
     "name": "stdout",
     "output_type": "stream",
     "text": [
      "LFC min: 1.0, LFC max: 4.0\n"
     ]
    }
   ],
   "source": [
    "print(\"LFC min: {0}, LFC max: {1}\".format(logs.LFC.min(), logs.LFC.max()))"
   ]
  },
  {
   "cell_type": "markdown",
   "metadata": {},
   "source": [
    "It is very easy to do plots of all types with `pandas`, and to show that here's a one-liner that plots $V_\\mathrm{P}$ histograms for each class (remember that at this point we only have classes 1, 2 and 4, i.e. brine sand, oil sand and shales):"
   ]
  },
  {
   "cell_type": "code",
   "execution_count": 18,
   "metadata": {},
   "outputs": [
    {
     "data": {
      "text/plain": [
       "array([<AxesSubplot:title={'center':'1.0'}>,\n",
       "       <AxesSubplot:title={'center':'2.0'}>,\n",
       "       <AxesSubplot:title={'center':'4.0'}>], dtype=object)"
      ]
     },
     "execution_count": 18,
     "metadata": {},
     "output_type": "execute_result"
    },
    {
     "data": {
      "image/png": "[encoded data removed]",
      "text/plain": [
       "<Figure size 1080x144 with 3 Axes>"
      ]
     },
     "metadata": {
      "needs_background": "light"
     },
     "output_type": "display_data"
    }
   ],
   "source": [
    "logs.IP.hist(bins=20, color='black', by=logs.LFC, figsize=(15,2), layout=(1,3), lw=0)\n",
    "#plt.savefig(\"histograms.png\", dpi=250)"
   ]
  },
  {
   "cell_type": "markdown",
   "metadata": {},
   "source": [
    "## Summary plots\n",
    "\n",
    "The next few cells visualize the results. No need to do anything until the IP/VPVS crossplot."
   ]
  },
  {
   "cell_type": "markdown",
   "metadata": {},
   "source": [
    "First we need a custom colormap for my classes, i.e. a discrete colormap with following classes-colors association:\n",
    "\n",
    "* LFC=0: undef, GRAY\n",
    "* LFC=1: brine sand, BLUE\n",
    "* LFC=2: oil sand, GREEN\n",
    "* LFC=3: gas sand, RED\n",
    "* LFC=4: shale, BROWN\n",
    "\n",
    "This is the way to define this colormap:"
   ]
  },
  {
   "cell_type": "code",
   "execution_count": 19,
   "metadata": {},
   "outputs": [],
   "source": [
    "import matplotlib.colors as colors\n",
    "#      0=undef   1=bri  2=oil   3=gas 4=shale\n",
    "ccc = ['#B3B3B3','blue','green','red','#996633',]\n",
    "cmap_facies = colors.ListedColormap(ccc[0:len(ccc)], 'indexed')"
   ]
  },
  {
   "cell_type": "markdown",
   "metadata": {},
   "source": [
    "Let's now display a summary view of all the logs:"
   ]
  },
  {
   "cell_type": "code",
   "execution_count": 20,
   "metadata": {},
   "outputs": [
    {
     "data": {
      "text/plain": [
       "[Text(-50.0, 0, ''), Text(0.0, 0, ''), Text(50.0, 0, ''), Text(100.0, 0, '')]"
      ]
     },
     "execution_count": 20,
     "metadata": {},
     "output_type": "execute_result"
    },
    {
     "data": {
      "image/png": "[encoded data removed]",
      "text/plain": [
       "<Figure size 576x864 with 5 Axes>"
      ]
     },
     "metadata": {
      "needs_background": "light"
     },
     "output_type": "display_data"
    }
   ],
   "source": [
    "ztop=2100; zbot=2400\n",
    "ll=logs.loc[(logs.DEPTH>=ztop) & (logs.DEPTH<=zbot)]\n",
    "\n",
    "cluster=np.repeat(np.expand_dims(ll['LFC'].values,1), 100, 1)\n",
    "\n",
    "f, ax = plt.subplots(nrows=1, ncols=4, figsize=(8, 12))\n",
    "ax[0].plot(ll.VSH, ll.DEPTH, '-g', label='Vsh')\n",
    "ax[0].plot(ll.SW, ll.DEPTH, '-b', label='Sw')\n",
    "ax[0].plot(ll.PHI, ll.DEPTH, '-k', label='phi')\n",
    "ax[1].plot(ll.IP, ll.DEPTH, '-', color='0.5')\n",
    "ax[2].plot(ll.VPVS, ll.DEPTH, '-', color='0.5')\n",
    "im=ax[3].imshow(cluster, interpolation='none', aspect='auto',cmap=cmap_facies,vmin=0,vmax=4)\n",
    "\n",
    "cbar=plt.colorbar(im, ax=ax[3])\n",
    "# cbar.set_label('0=undef,1=brine,2=oil,3=gas,4=shale')\n",
    "# cbar.set_ticks(range(0,4+1)); cbar.set_ticklabels(range(0,4+1))\n",
    "cbar.set_label((12*' ').join(['undef', 'brine', 'oil', 'gas', 'shale']))\n",
    "cbar.set_ticks(range(0,1)); cbar.set_ticklabels('')\n",
    "\n",
    "for i in range(len(ax)-1):\n",
    "    ax[i].set_ylim(ztop,zbot)\n",
    "    ax[i].invert_yaxis()\n",
    "    ax[i].grid()\n",
    "    ax[i].locator_params(axis='x', nbins=4)\n",
    "ax[0].legend(fontsize='small', loc='lower right')\n",
    "ax[0].set_xlabel(\"Vcl/phi/Sw\"),    ax[0].set_xlim(-.1,1.1)\n",
    "ax[1].set_xlabel(\"Ip [m/s*g/cc]\"), ax[1].set_xlim(3000,9000)\n",
    "ax[2].set_xlabel(\"Vp/Vs\"),         ax[2].set_xlim(1.5,3)\n",
    "ax[3].set_xlabel('LFC')\n",
    "ax[1].set_yticklabels([]); ax[2].set_yticklabels([]); ax[3].set_yticklabels([]); ax[3].set_xticklabels([])\n",
    "\n",
    "#plt.savefig(\"log.png\", dpi=250)"
   ]
  },
  {
   "cell_type": "markdown",
   "metadata": {},
   "source": [
    "### The following code will make a cross-plot of IP vs VPVS and color code using lithofacies. \n",
    "### Comment on the results."
   ]
  },
  {
   "cell_type": "code",
   "execution_count": 21,
   "metadata": {},
   "outputs": [
    {
     "data": {
      "image/png": "[encoded data removed]",
      "text/plain": [
       "<Figure size 576x432 with 2 Axes>"
      ]
     },
     "metadata": {
      "needs_background": "light"
     },
     "output_type": "display_data"
    }
   ],
   "source": [
    "plt.figure(figsize=(8,6))\n",
    "plt.scatter(logs.IP, logs.VPVS,20, c=logs.LFC,\n",
    "            marker='o', edgecolors='none',\n",
    "            alpha=0.7, cmap=cmap_facies,\n",
    "            vmin=0, vmax=4)\n",
    "plt.xlim(3000, 9000); plt.ylim(1.5, 3);\n",
    "plt.xlabel('Ip'); plt.ylabel('Vp/Vs')\n",
    "plt.grid();\n",
    "\n",
    "cbar = plt.colorbar()\n",
    "cbar.set_label((15*' ').join(['undef', 'brine', 'oil', 'gas', 'shale']))\n",
    "cbar.set_ticks(range(0,1)); cbar.set_ticklabels('')\n",
    "\n",
    "#plt.savefig(\"crossplot.png\", dpi=250)"
   ]
  },
  {
   "cell_type": "markdown",
   "metadata": {},
   "source": [
    "### Make crossplots between IP, VPVS, VSH, SW using seaborn"
   ]
  },
  {
   "cell_type": "code",
   "execution_count": 22,
   "metadata": {},
   "outputs": [],
   "source": [
    "cols = ['IP','VPVS','VSH','SW']"
   ]
  },
  {
   "cell_type": "markdown",
   "metadata": {},
   "source": [
    "### Make correlation plots between IP, VPVS, VSH, SW using seaborn heatmap"
   ]
  },
  {
   "cell_type": "code",
   "execution_count": 23,
   "metadata": {},
   "outputs": [
    {
     "ename": "NameError",
     "evalue": "name 'sns' is not defined",
     "output_type": "error",
     "traceback": [
      "\u001b[0;31m---------------------------------------------------------------------------\u001b[0m",
      "\u001b[0;31mNameError\u001b[0m                                 Traceback (most recent call last)",
      "\u001b[0;32m<ipython-input-23-276731f19f2e>\u001b[0m in \u001b[0;36m<module>\u001b[0;34m\u001b[0m\n\u001b[1;32m      1\u001b[0m \u001b[0mcm\u001b[0m \u001b[0;34m=\u001b[0m \u001b[0mnp\u001b[0m\u001b[0;34m.\u001b[0m\u001b[0mcorrcoef\u001b[0m\u001b[0;34m(\u001b[0m\u001b[0mlogs\u001b[0m\u001b[0;34m[\u001b[0m\u001b[0mcols\u001b[0m\u001b[0;34m]\u001b[0m\u001b[0;34m.\u001b[0m\u001b[0mvalues\u001b[0m\u001b[0;34m.\u001b[0m\u001b[0mT\u001b[0m\u001b[0;34m)\u001b[0m\u001b[0;34m\u001b[0m\u001b[0;34m\u001b[0m\u001b[0m\n\u001b[0;32m----> 2\u001b[0;31m \u001b[0mhm\u001b[0m \u001b[0;34m=\u001b[0m \u001b[0msns\u001b[0m\u001b[0;34m.\u001b[0m\u001b[0mheatmap\u001b[0m\u001b[0;34m(\u001b[0m\u001b[0;34m)\u001b[0m\u001b[0;34m\u001b[0m\u001b[0;34m\u001b[0m\u001b[0m\n\u001b[0m\u001b[1;32m      3\u001b[0m \u001b[0;34m\u001b[0m\u001b[0m\n\u001b[1;32m      4\u001b[0m \u001b[0mplt\u001b[0m\u001b[0;34m.\u001b[0m\u001b[0mshow\u001b[0m\u001b[0;34m(\u001b[0m\u001b[0;34m)\u001b[0m\u001b[0;34m\u001b[0m\u001b[0;34m\u001b[0m\u001b[0m\n",
      "\u001b[0;31mNameError\u001b[0m: name 'sns' is not defined"
     ]
    }
   ],
   "source": [
    "import seaborn as sns\n",
    "cm = np.corrcoef(logs[cols].values.T)\n",
    "hm = sns.heatmap()\n",
    "\n",
    "plt.show()"
   ]
  },
  {
   "cell_type": "markdown",
   "metadata": {},
   "source": [
    "## References"
   ]
  },
  {
   "cell_type": "markdown",
   "metadata": {},
   "source": [
    "* Avseth, P., Mukerji, T. & Mavko, G. Quantitative Seismic Interpretation. (Cambridge University Press, 2005).\n",
    "\n",
    "\n",
    "See also the awesome collection of tutorials curated by Matt Hall for [The Leading Edge](http://library.seg.org/journal/leedff) and available here: <https://github.com/seg/tutorials>"
   ]
  },
  {
   "cell_type": "markdown",
   "metadata": {},
   "source": [
    "<hr />\n",
    "<p style=\"color:gray\">©2015 Alessandro Amato del Monte, openly licensed under the terms of <a href=\"https://creativecommons.org/licenses/by-sa/4.0/\">CC-BY-SA</a>. This tutorial appeared in SEG Leading Edge in April 2015. </p>"
   ]
  }
 ],
 "metadata": {
  "kernelspec": {
   "display_name": "conda_env",
   "language": "python",
   "name": "conda_env"
  },
  "language_info": {
   "codemirror_mode": {
    "name": "ipython",
    "version": 3
   },
   "file_extension": ".py",
   "mimetype": "text/x-python",
   "name": "python",
   "nbconvert_exporter": "python",
   "pygments_lexer": "ipython3",
   "version": "3.8.5"
  }
 },
 "nbformat": 4,
 "nbformat_minor": 4
}
